{
 "cells": [
  {
   "cell_type": "markdown",
   "metadata": {},
   "source": [
    "Predicting LV power using LSTM and with a sample frequency of 20 mins and  two time  steps.  "
   ]
  },
  {
   "cell_type": "markdown",
   "metadata": {},
   "source": [
    "https://www.kaggle.com/berkerisen/wind-turbine-scada-dataset"
   ]
  },
  {
   "cell_type": "code",
   "execution_count": 1,
   "metadata": {},
   "outputs": [],
   "source": [
    "import pandas as pd\n",
    "import numpy as np\n",
    "import matplotlib.pyplot as plt"
   ]
  },
  {
   "cell_type": "code",
   "execution_count": 2,
   "metadata": {},
   "outputs": [],
   "source": [
    "import tensorflow as tf"
   ]
  },
  {
   "cell_type": "code",
   "execution_count": 3,
   "metadata": {},
   "outputs": [],
   "source": [
    "from sklearn.metrics import mean_squared_error , r2_score"
   ]
  },
  {
   "cell_type": "code",
   "execution_count": 4,
   "metadata": {},
   "outputs": [],
   "source": [
    "train = pd.read_csv(\"train.csv\")\n",
    "test = pd.read_csv(\"test.csv\")"
   ]
  },
  {
   "cell_type": "code",
   "execution_count": 5,
   "metadata": {},
   "outputs": [
    {
     "data": {
      "text/html": [
       "<div>\n",
       "<style scoped>\n",
       "    .dataframe tbody tr th:only-of-type {\n",
       "        vertical-align: middle;\n",
       "    }\n",
       "\n",
       "    .dataframe tbody tr th {\n",
       "        vertical-align: top;\n",
       "    }\n",
       "\n",
       "    .dataframe thead th {\n",
       "        text-align: right;\n",
       "    }\n",
       "</style>\n",
       "<table border=\"1\" class=\"dataframe\">\n",
       "  <thead>\n",
       "    <tr style=\"text-align: right;\">\n",
       "      <th></th>\n",
       "      <th>Date</th>\n",
       "      <th>LV ActivePower (kW)</th>\n",
       "      <th>Wind Speed (m/s)</th>\n",
       "      <th>Theoretical_Power_Curve (KWh)</th>\n",
       "      <th>Wind Direction (°)</th>\n",
       "    </tr>\n",
       "  </thead>\n",
       "  <tbody>\n",
       "    <tr>\n",
       "      <th>0</th>\n",
       "      <td>2018-01-01 00:00:00</td>\n",
       "      <td>380.047791</td>\n",
       "      <td>5.311336</td>\n",
       "      <td>416.328908</td>\n",
       "      <td>259.994904</td>\n",
       "    </tr>\n",
       "    <tr>\n",
       "      <th>1</th>\n",
       "      <td>2018-01-01 00:10:00</td>\n",
       "      <td>453.769196</td>\n",
       "      <td>5.672167</td>\n",
       "      <td>519.917511</td>\n",
       "      <td>268.641113</td>\n",
       "    </tr>\n",
       "    <tr>\n",
       "      <th>2</th>\n",
       "      <td>2018-01-01 00:20:00</td>\n",
       "      <td>306.376587</td>\n",
       "      <td>5.216037</td>\n",
       "      <td>390.900016</td>\n",
       "      <td>272.564789</td>\n",
       "    </tr>\n",
       "    <tr>\n",
       "      <th>3</th>\n",
       "      <td>2018-01-01 00:30:00</td>\n",
       "      <td>419.645905</td>\n",
       "      <td>5.659674</td>\n",
       "      <td>516.127569</td>\n",
       "      <td>271.258087</td>\n",
       "    </tr>\n",
       "    <tr>\n",
       "      <th>4</th>\n",
       "      <td>2018-01-01 00:40:00</td>\n",
       "      <td>380.650696</td>\n",
       "      <td>5.577941</td>\n",
       "      <td>491.702972</td>\n",
       "      <td>265.674286</td>\n",
       "    </tr>\n",
       "  </tbody>\n",
       "</table>\n",
       "</div>"
      ],
      "text/plain": [
       "                  Date  LV ActivePower (kW)  Wind Speed (m/s)  \\\n",
       "0  2018-01-01 00:00:00           380.047791          5.311336   \n",
       "1  2018-01-01 00:10:00           453.769196          5.672167   \n",
       "2  2018-01-01 00:20:00           306.376587          5.216037   \n",
       "3  2018-01-01 00:30:00           419.645905          5.659674   \n",
       "4  2018-01-01 00:40:00           380.650696          5.577941   \n",
       "\n",
       "   Theoretical_Power_Curve (KWh)  Wind Direction (°)  \n",
       "0                     416.328908          259.994904  \n",
       "1                     519.917511          268.641113  \n",
       "2                     390.900016          272.564789  \n",
       "3                     516.127569          271.258087  \n",
       "4                     491.702972          265.674286  "
      ]
     },
     "execution_count": 5,
     "metadata": {},
     "output_type": "execute_result"
    }
   ],
   "source": [
    "train.head()"
   ]
  },
  {
   "cell_type": "code",
   "execution_count": 6,
   "metadata": {},
   "outputs": [
    {
     "data": {
      "text/html": [
       "<div>\n",
       "<style scoped>\n",
       "    .dataframe tbody tr th:only-of-type {\n",
       "        vertical-align: middle;\n",
       "    }\n",
       "\n",
       "    .dataframe tbody tr th {\n",
       "        vertical-align: top;\n",
       "    }\n",
       "\n",
       "    .dataframe thead th {\n",
       "        text-align: right;\n",
       "    }\n",
       "</style>\n",
       "<table border=\"1\" class=\"dataframe\">\n",
       "  <thead>\n",
       "    <tr style=\"text-align: right;\">\n",
       "      <th></th>\n",
       "      <th>Date</th>\n",
       "      <th>LV ActivePower (kW)</th>\n",
       "      <th>Wind Speed (m/s)</th>\n",
       "      <th>Theoretical_Power_Curve (KWh)</th>\n",
       "      <th>Wind Direction (°)</th>\n",
       "    </tr>\n",
       "  </thead>\n",
       "  <tbody>\n",
       "    <tr>\n",
       "      <th>0</th>\n",
       "      <td>2018-12-26 00:00:00</td>\n",
       "      <td>394.483887</td>\n",
       "      <td>11.23912</td>\n",
       "      <td>3350.492384</td>\n",
       "      <td>25.707260</td>\n",
       "    </tr>\n",
       "    <tr>\n",
       "      <th>1</th>\n",
       "      <td>2018-12-26 00:10:00</td>\n",
       "      <td>369.472809</td>\n",
       "      <td>11.01617</td>\n",
       "      <td>3278.121125</td>\n",
       "      <td>25.653749</td>\n",
       "    </tr>\n",
       "    <tr>\n",
       "      <th>2</th>\n",
       "      <td>2018-12-26 00:20:00</td>\n",
       "      <td>342.465393</td>\n",
       "      <td>10.68914</td>\n",
       "      <td>3151.278731</td>\n",
       "      <td>26.026560</td>\n",
       "    </tr>\n",
       "    <tr>\n",
       "      <th>3</th>\n",
       "      <td>2018-12-26 00:30:00</td>\n",
       "      <td>379.872101</td>\n",
       "      <td>10.95354</td>\n",
       "      <td>3255.790569</td>\n",
       "      <td>25.367300</td>\n",
       "    </tr>\n",
       "    <tr>\n",
       "      <th>4</th>\n",
       "      <td>2018-12-26 00:40:00</td>\n",
       "      <td>346.712891</td>\n",
       "      <td>10.38256</td>\n",
       "      <td>3007.924280</td>\n",
       "      <td>24.966379</td>\n",
       "    </tr>\n",
       "  </tbody>\n",
       "</table>\n",
       "</div>"
      ],
      "text/plain": [
       "                  Date  LV ActivePower (kW)  Wind Speed (m/s)  \\\n",
       "0  2018-12-26 00:00:00           394.483887          11.23912   \n",
       "1  2018-12-26 00:10:00           369.472809          11.01617   \n",
       "2  2018-12-26 00:20:00           342.465393          10.68914   \n",
       "3  2018-12-26 00:30:00           379.872101          10.95354   \n",
       "4  2018-12-26 00:40:00           346.712891          10.38256   \n",
       "\n",
       "   Theoretical_Power_Curve (KWh)  Wind Direction (°)  \n",
       "0                    3350.492384           25.707260  \n",
       "1                    3278.121125           25.653749  \n",
       "2                    3151.278731           26.026560  \n",
       "3                    3255.790569           25.367300  \n",
       "4                    3007.924280           24.966379  "
      ]
     },
     "execution_count": 6,
     "metadata": {},
     "output_type": "execute_result"
    }
   ],
   "source": [
    "test.head()"
   ]
  },
  {
   "cell_type": "code",
   "execution_count": 7,
   "metadata": {},
   "outputs": [],
   "source": [
    "train['Date'] = pd.to_datetime(train['Date'])\n",
    "test['Date'] = pd.to_datetime(test['Date'])"
   ]
  },
  {
   "cell_type": "code",
   "execution_count": 8,
   "metadata": {},
   "outputs": [],
   "source": [
    "cols = train.columns.tolist()"
   ]
  },
  {
   "cell_type": "code",
   "execution_count": 9,
   "metadata": {},
   "outputs": [],
   "source": [
    "train.set_index(['Date'] , inplace = True)\n",
    "test.set_index(['Date'] , inplace = True)"
   ]
  },
  {
   "cell_type": "code",
   "execution_count": 10,
   "metadata": {},
   "outputs": [
    {
     "data": {
      "text/plain": [
       "Text(0.5, 1.0, 'train data -LV ActivePower (kW)')"
      ]
     },
     "execution_count": 10,
     "metadata": {},
     "output_type": "execute_result"
    },
    {
     "data": {
      "image/png": "[encoded data removed]",
      "text/plain": [
       "<Figure size 1080x360 with 1 Axes>"
      ]
     },
     "metadata": {
      "needs_background": "light"
     },
     "output_type": "display_data"
    }
   ],
   "source": [
    "## plot wind power\n",
    "plt.figure(figsize = (15,5))\n",
    "train[cols[1]].plot()\n",
    "plt.title('train data -' + cols[1])\n"
   ]
  },
  {
   "cell_type": "code",
   "execution_count": 11,
   "metadata": {},
   "outputs": [
    {
     "data": {
      "text/plain": [
       "Text(0.5, 1.0, 'test data - LV ActivePower (kW)')"
      ]
     },
     "execution_count": 11,
     "metadata": {},
     "output_type": "execute_result"
    },
    {
     "data": {
      "image/png": "[encoded data removed]",
      "text/plain": [
       "<Figure size 1080x360 with 1 Axes>"
      ]
     },
     "metadata": {
      "needs_background": "light"
     },
     "output_type": "display_data"
    }
   ],
   "source": [
    "## plot test data \n",
    "plt.figure(figsize = (15,5))\n",
    "test[cols[1]].plot()\n",
    "plt.title('test data - ' +  cols[1])"
   ]
  },
  {
   "cell_type": "code",
   "execution_count": 12,
   "metadata": {},
   "outputs": [],
   "source": [
    "## Shift the values by 1 and 2 to create features \n",
    "train[cols[1] + '+1'] = train[cols[1]].shift(-1)\n",
    "train[cols[1] + '+2'] = train[cols[1]].shift(-2)\n"
   ]
  },
  {
   "cell_type": "code",
   "execution_count": 13,
   "metadata": {},
   "outputs": [
    {
     "data": {
      "text/html": [
       "<div>\n",
       "<style scoped>\n",
       "    .dataframe tbody tr th:only-of-type {\n",
       "        vertical-align: middle;\n",
       "    }\n",
       "\n",
       "    .dataframe tbody tr th {\n",
       "        vertical-align: top;\n",
       "    }\n",
       "\n",
       "    .dataframe thead th {\n",
       "        text-align: right;\n",
       "    }\n",
       "</style>\n",
       "<table border=\"1\" class=\"dataframe\">\n",
       "  <thead>\n",
       "    <tr style=\"text-align: right;\">\n",
       "      <th></th>\n",
       "      <th>LV ActivePower (kW)</th>\n",
       "      <th>Wind Speed (m/s)</th>\n",
       "      <th>Theoretical_Power_Curve (KWh)</th>\n",
       "      <th>Wind Direction (°)</th>\n",
       "      <th>LV ActivePower (kW)+1</th>\n",
       "      <th>LV ActivePower (kW)+2</th>\n",
       "    </tr>\n",
       "    <tr>\n",
       "      <th>Date</th>\n",
       "      <th></th>\n",
       "      <th></th>\n",
       "      <th></th>\n",
       "      <th></th>\n",
       "      <th></th>\n",
       "      <th></th>\n",
       "    </tr>\n",
       "  </thead>\n",
       "  <tbody>\n",
       "    <tr>\n",
       "      <th>2018-01-01 00:00:00</th>\n",
       "      <td>380.047791</td>\n",
       "      <td>5.311336</td>\n",
       "      <td>416.328908</td>\n",
       "      <td>259.994904</td>\n",
       "      <td>453.769196</td>\n",
       "      <td>306.376587</td>\n",
       "    </tr>\n",
       "    <tr>\n",
       "      <th>2018-01-01 00:10:00</th>\n",
       "      <td>453.769196</td>\n",
       "      <td>5.672167</td>\n",
       "      <td>519.917511</td>\n",
       "      <td>268.641113</td>\n",
       "      <td>306.376587</td>\n",
       "      <td>419.645905</td>\n",
       "    </tr>\n",
       "    <tr>\n",
       "      <th>2018-01-01 00:20:00</th>\n",
       "      <td>306.376587</td>\n",
       "      <td>5.216037</td>\n",
       "      <td>390.900016</td>\n",
       "      <td>272.564789</td>\n",
       "      <td>419.645905</td>\n",
       "      <td>380.650696</td>\n",
       "    </tr>\n",
       "    <tr>\n",
       "      <th>2018-01-01 00:30:00</th>\n",
       "      <td>419.645905</td>\n",
       "      <td>5.659674</td>\n",
       "      <td>516.127569</td>\n",
       "      <td>271.258087</td>\n",
       "      <td>380.650696</td>\n",
       "      <td>402.391998</td>\n",
       "    </tr>\n",
       "    <tr>\n",
       "      <th>2018-01-01 00:40:00</th>\n",
       "      <td>380.650696</td>\n",
       "      <td>5.577941</td>\n",
       "      <td>491.702972</td>\n",
       "      <td>265.674286</td>\n",
       "      <td>402.391998</td>\n",
       "      <td>447.605713</td>\n",
       "    </tr>\n",
       "  </tbody>\n",
       "</table>\n",
       "</div>"
      ],
      "text/plain": [
       "                     LV ActivePower (kW)  Wind Speed (m/s)  \\\n",
       "Date                                                         \n",
       "2018-01-01 00:00:00           380.047791          5.311336   \n",
       "2018-01-01 00:10:00           453.769196          5.672167   \n",
       "2018-01-01 00:20:00           306.376587          5.216037   \n",
       "2018-01-01 00:30:00           419.645905          5.659674   \n",
       "2018-01-01 00:40:00           380.650696          5.577941   \n",
       "\n",
       "                     Theoretical_Power_Curve (KWh)  Wind Direction (°)  \\\n",
       "Date                                                                     \n",
       "2018-01-01 00:00:00                     416.328908          259.994904   \n",
       "2018-01-01 00:10:00                     519.917511          268.641113   \n",
       "2018-01-01 00:20:00                     390.900016          272.564789   \n",
       "2018-01-01 00:30:00                     516.127569          271.258087   \n",
       "2018-01-01 00:40:00                     491.702972          265.674286   \n",
       "\n",
       "                     LV ActivePower (kW)+1  LV ActivePower (kW)+2  \n",
       "Date                                                               \n",
       "2018-01-01 00:00:00             453.769196             306.376587  \n",
       "2018-01-01 00:10:00             306.376587             419.645905  \n",
       "2018-01-01 00:20:00             419.645905             380.650696  \n",
       "2018-01-01 00:30:00             380.650696             402.391998  \n",
       "2018-01-01 00:40:00             402.391998             447.605713  "
      ]
     },
     "execution_count": 13,
     "metadata": {},
     "output_type": "execute_result"
    }
   ],
   "source": [
    "train.head()"
   ]
  },
  {
   "cell_type": "code",
   "execution_count": 14,
   "metadata": {},
   "outputs": [
    {
     "data": {
      "text/plain": [
       "LV ActivePower (kW)              0\n",
       "Wind Speed (m/s)                 0\n",
       "Theoretical_Power_Curve (KWh)    0\n",
       "Wind Direction (°)               0\n",
       "LV ActivePower (kW)+1            1\n",
       "LV ActivePower (kW)+2            2\n",
       "dtype: int64"
      ]
     },
     "execution_count": 14,
     "metadata": {},
     "output_type": "execute_result"
    }
   ],
   "source": [
    "train.isnull().sum()"
   ]
  },
  {
   "cell_type": "code",
   "execution_count": 15,
   "metadata": {},
   "outputs": [
    {
     "data": {
      "text/html": [
       "<div>\n",
       "<style scoped>\n",
       "    .dataframe tbody tr th:only-of-type {\n",
       "        vertical-align: middle;\n",
       "    }\n",
       "\n",
       "    .dataframe tbody tr th {\n",
       "        vertical-align: top;\n",
       "    }\n",
       "\n",
       "    .dataframe thead th {\n",
       "        text-align: right;\n",
       "    }\n",
       "</style>\n",
       "<table border=\"1\" class=\"dataframe\">\n",
       "  <thead>\n",
       "    <tr style=\"text-align: right;\">\n",
       "      <th></th>\n",
       "      <th>LV ActivePower (kW)</th>\n",
       "      <th>Wind Speed (m/s)</th>\n",
       "      <th>Theoretical_Power_Curve (KWh)</th>\n",
       "      <th>Wind Direction (°)</th>\n",
       "      <th>LV ActivePower (kW)+1</th>\n",
       "      <th>LV ActivePower (kW)+2</th>\n",
       "    </tr>\n",
       "    <tr>\n",
       "      <th>Date</th>\n",
       "      <th></th>\n",
       "      <th></th>\n",
       "      <th></th>\n",
       "      <th></th>\n",
       "      <th></th>\n",
       "      <th></th>\n",
       "    </tr>\n",
       "  </thead>\n",
       "  <tbody>\n",
       "    <tr>\n",
       "      <th>2018-12-25 23:10:00</th>\n",
       "      <td>215.484207</td>\n",
       "      <td>9.242176</td>\n",
       "      <td>2301.134108</td>\n",
       "      <td>30.515120</td>\n",
       "      <td>190.253998</td>\n",
       "      <td>261.101013</td>\n",
       "    </tr>\n",
       "    <tr>\n",
       "      <th>2018-12-25 23:20:00</th>\n",
       "      <td>190.253998</td>\n",
       "      <td>8.737427</td>\n",
       "      <td>1976.292032</td>\n",
       "      <td>26.657761</td>\n",
       "      <td>261.101013</td>\n",
       "      <td>212.121506</td>\n",
       "    </tr>\n",
       "    <tr>\n",
       "      <th>2018-12-25 23:30:00</th>\n",
       "      <td>261.101013</td>\n",
       "      <td>9.707693</td>\n",
       "      <td>2596.541416</td>\n",
       "      <td>25.608040</td>\n",
       "      <td>212.121506</td>\n",
       "      <td>296.951111</td>\n",
       "    </tr>\n",
       "    <tr>\n",
       "      <th>2018-12-25 23:40:00</th>\n",
       "      <td>212.121506</td>\n",
       "      <td>9.075032</td>\n",
       "      <td>2192.469413</td>\n",
       "      <td>26.380341</td>\n",
       "      <td>296.951111</td>\n",
       "      <td>NaN</td>\n",
       "    </tr>\n",
       "    <tr>\n",
       "      <th>2018-12-25 23:50:00</th>\n",
       "      <td>296.951111</td>\n",
       "      <td>10.106640</td>\n",
       "      <td>2856.644995</td>\n",
       "      <td>25.966070</td>\n",
       "      <td>NaN</td>\n",
       "      <td>NaN</td>\n",
       "    </tr>\n",
       "  </tbody>\n",
       "</table>\n",
       "</div>"
      ],
      "text/plain": [
       "                     LV ActivePower (kW)  Wind Speed (m/s)  \\\n",
       "Date                                                         \n",
       "2018-12-25 23:10:00           215.484207          9.242176   \n",
       "2018-12-25 23:20:00           190.253998          8.737427   \n",
       "2018-12-25 23:30:00           261.101013          9.707693   \n",
       "2018-12-25 23:40:00           212.121506          9.075032   \n",
       "2018-12-25 23:50:00           296.951111         10.106640   \n",
       "\n",
       "                     Theoretical_Power_Curve (KWh)  Wind Direction (°)  \\\n",
       "Date                                                                     \n",
       "2018-12-25 23:10:00                    2301.134108           30.515120   \n",
       "2018-12-25 23:20:00                    1976.292032           26.657761   \n",
       "2018-12-25 23:30:00                    2596.541416           25.608040   \n",
       "2018-12-25 23:40:00                    2192.469413           26.380341   \n",
       "2018-12-25 23:50:00                    2856.644995           25.966070   \n",
       "\n",
       "                     LV ActivePower (kW)+1  LV ActivePower (kW)+2  \n",
       "Date                                                               \n",
       "2018-12-25 23:10:00             190.253998             261.101013  \n",
       "2018-12-25 23:20:00             261.101013             212.121506  \n",
       "2018-12-25 23:30:00             212.121506             296.951111  \n",
       "2018-12-25 23:40:00             296.951111                    NaN  \n",
       "2018-12-25 23:50:00                    NaN                    NaN  "
      ]
     },
     "execution_count": 15,
     "metadata": {},
     "output_type": "execute_result"
    }
   ],
   "source": [
    "train.tail()"
   ]
  },
  {
   "cell_type": "code",
   "execution_count": 16,
   "metadata": {},
   "outputs": [],
   "source": [
    "train.dropna(inplace = True )"
   ]
  },
  {
   "cell_type": "code",
   "execution_count": 17,
   "metadata": {},
   "outputs": [],
   "source": [
    "## shift the values by 1 and 2 to create featues.\n",
    "test[cols[1] + '+1'] = test[cols[1]].shift(-1)\n",
    "test[cols[1] + '+2'] = test[cols[1]].shift(-2)"
   ]
  },
  {
   "cell_type": "code",
   "execution_count": 18,
   "metadata": {},
   "outputs": [
    {
     "data": {
      "text/html": [
       "<div>\n",
       "<style scoped>\n",
       "    .dataframe tbody tr th:only-of-type {\n",
       "        vertical-align: middle;\n",
       "    }\n",
       "\n",
       "    .dataframe tbody tr th {\n",
       "        vertical-align: top;\n",
       "    }\n",
       "\n",
       "    .dataframe thead th {\n",
       "        text-align: right;\n",
       "    }\n",
       "</style>\n",
       "<table border=\"1\" class=\"dataframe\">\n",
       "  <thead>\n",
       "    <tr style=\"text-align: right;\">\n",
       "      <th></th>\n",
       "      <th>LV ActivePower (kW)</th>\n",
       "      <th>Wind Speed (m/s)</th>\n",
       "      <th>Theoretical_Power_Curve (KWh)</th>\n",
       "      <th>Wind Direction (°)</th>\n",
       "      <th>LV ActivePower (kW)+1</th>\n",
       "      <th>LV ActivePower (kW)+2</th>\n",
       "    </tr>\n",
       "    <tr>\n",
       "      <th>Date</th>\n",
       "      <th></th>\n",
       "      <th></th>\n",
       "      <th></th>\n",
       "      <th></th>\n",
       "      <th></th>\n",
       "      <th></th>\n",
       "    </tr>\n",
       "  </thead>\n",
       "  <tbody>\n",
       "    <tr>\n",
       "      <th>2018-12-26 00:00:00</th>\n",
       "      <td>394.483887</td>\n",
       "      <td>11.23912</td>\n",
       "      <td>3350.492384</td>\n",
       "      <td>25.707260</td>\n",
       "      <td>369.472809</td>\n",
       "      <td>342.465393</td>\n",
       "    </tr>\n",
       "    <tr>\n",
       "      <th>2018-12-26 00:10:00</th>\n",
       "      <td>369.472809</td>\n",
       "      <td>11.01617</td>\n",
       "      <td>3278.121125</td>\n",
       "      <td>25.653749</td>\n",
       "      <td>342.465393</td>\n",
       "      <td>379.872101</td>\n",
       "    </tr>\n",
       "    <tr>\n",
       "      <th>2018-12-26 00:20:00</th>\n",
       "      <td>342.465393</td>\n",
       "      <td>10.68914</td>\n",
       "      <td>3151.278731</td>\n",
       "      <td>26.026560</td>\n",
       "      <td>379.872101</td>\n",
       "      <td>346.712891</td>\n",
       "    </tr>\n",
       "    <tr>\n",
       "      <th>2018-12-26 00:30:00</th>\n",
       "      <td>379.872101</td>\n",
       "      <td>10.95354</td>\n",
       "      <td>3255.790569</td>\n",
       "      <td>25.367300</td>\n",
       "      <td>346.712891</td>\n",
       "      <td>358.168488</td>\n",
       "    </tr>\n",
       "    <tr>\n",
       "      <th>2018-12-26 00:40:00</th>\n",
       "      <td>346.712891</td>\n",
       "      <td>10.38256</td>\n",
       "      <td>3007.924280</td>\n",
       "      <td>24.966379</td>\n",
       "      <td>358.168488</td>\n",
       "      <td>342.632294</td>\n",
       "    </tr>\n",
       "  </tbody>\n",
       "</table>\n",
       "</div>"
      ],
      "text/plain": [
       "                     LV ActivePower (kW)  Wind Speed (m/s)  \\\n",
       "Date                                                         \n",
       "2018-12-26 00:00:00           394.483887          11.23912   \n",
       "2018-12-26 00:10:00           369.472809          11.01617   \n",
       "2018-12-26 00:20:00           342.465393          10.68914   \n",
       "2018-12-26 00:30:00           379.872101          10.95354   \n",
       "2018-12-26 00:40:00           346.712891          10.38256   \n",
       "\n",
       "                     Theoretical_Power_Curve (KWh)  Wind Direction (°)  \\\n",
       "Date                                                                     \n",
       "2018-12-26 00:00:00                    3350.492384           25.707260   \n",
       "2018-12-26 00:10:00                    3278.121125           25.653749   \n",
       "2018-12-26 00:20:00                    3151.278731           26.026560   \n",
       "2018-12-26 00:30:00                    3255.790569           25.367300   \n",
       "2018-12-26 00:40:00                    3007.924280           24.966379   \n",
       "\n",
       "                     LV ActivePower (kW)+1  LV ActivePower (kW)+2  \n",
       "Date                                                               \n",
       "2018-12-26 00:00:00             369.472809             342.465393  \n",
       "2018-12-26 00:10:00             342.465393             379.872101  \n",
       "2018-12-26 00:20:00             379.872101             346.712891  \n",
       "2018-12-26 00:30:00             346.712891             358.168488  \n",
       "2018-12-26 00:40:00             358.168488             342.632294  "
      ]
     },
     "execution_count": 18,
     "metadata": {},
     "output_type": "execute_result"
    }
   ],
   "source": [
    "test.head()"
   ]
  },
  {
   "cell_type": "code",
   "execution_count": 19,
   "metadata": {},
   "outputs": [
    {
     "data": {
      "text/html": [
       "<div>\n",
       "<style scoped>\n",
       "    .dataframe tbody tr th:only-of-type {\n",
       "        vertical-align: middle;\n",
       "    }\n",
       "\n",
       "    .dataframe tbody tr th {\n",
       "        vertical-align: top;\n",
       "    }\n",
       "\n",
       "    .dataframe thead th {\n",
       "        text-align: right;\n",
       "    }\n",
       "</style>\n",
       "<table border=\"1\" class=\"dataframe\">\n",
       "  <thead>\n",
       "    <tr style=\"text-align: right;\">\n",
       "      <th></th>\n",
       "      <th>LV ActivePower (kW)</th>\n",
       "      <th>Wind Speed (m/s)</th>\n",
       "      <th>Theoretical_Power_Curve (KWh)</th>\n",
       "      <th>Wind Direction (°)</th>\n",
       "      <th>LV ActivePower (kW)+1</th>\n",
       "      <th>LV ActivePower (kW)+2</th>\n",
       "    </tr>\n",
       "    <tr>\n",
       "      <th>Date</th>\n",
       "      <th></th>\n",
       "      <th></th>\n",
       "      <th></th>\n",
       "      <th></th>\n",
       "      <th></th>\n",
       "      <th></th>\n",
       "    </tr>\n",
       "  </thead>\n",
       "  <tbody>\n",
       "    <tr>\n",
       "      <th>2018-12-31 23:10:00</th>\n",
       "      <td>2963.980957</td>\n",
       "      <td>11.404030</td>\n",
       "      <td>3397.190793</td>\n",
       "      <td>80.502724</td>\n",
       "      <td>1684.353027</td>\n",
       "      <td>2201.106934</td>\n",
       "    </tr>\n",
       "    <tr>\n",
       "      <th>2018-12-31 23:20:00</th>\n",
       "      <td>1684.353027</td>\n",
       "      <td>7.332648</td>\n",
       "      <td>1173.055771</td>\n",
       "      <td>84.062599</td>\n",
       "      <td>2201.106934</td>\n",
       "      <td>2515.694092</td>\n",
       "    </tr>\n",
       "    <tr>\n",
       "      <th>2018-12-31 23:30:00</th>\n",
       "      <td>2201.106934</td>\n",
       "      <td>8.435358</td>\n",
       "      <td>1788.284755</td>\n",
       "      <td>84.742500</td>\n",
       "      <td>2515.694092</td>\n",
       "      <td>2820.466064</td>\n",
       "    </tr>\n",
       "    <tr>\n",
       "      <th>2018-12-31 23:40:00</th>\n",
       "      <td>2515.694092</td>\n",
       "      <td>9.421366</td>\n",
       "      <td>2418.382503</td>\n",
       "      <td>84.297913</td>\n",
       "      <td>2820.466064</td>\n",
       "      <td>NaN</td>\n",
       "    </tr>\n",
       "    <tr>\n",
       "      <th>2018-12-31 23:50:00</th>\n",
       "      <td>2820.466064</td>\n",
       "      <td>9.979332</td>\n",
       "      <td>2779.184096</td>\n",
       "      <td>82.274620</td>\n",
       "      <td>NaN</td>\n",
       "      <td>NaN</td>\n",
       "    </tr>\n",
       "  </tbody>\n",
       "</table>\n",
       "</div>"
      ],
      "text/plain": [
       "                     LV ActivePower (kW)  Wind Speed (m/s)  \\\n",
       "Date                                                         \n",
       "2018-12-31 23:10:00          2963.980957         11.404030   \n",
       "2018-12-31 23:20:00          1684.353027          7.332648   \n",
       "2018-12-31 23:30:00          2201.106934          8.435358   \n",
       "2018-12-31 23:40:00          2515.694092          9.421366   \n",
       "2018-12-31 23:50:00          2820.466064          9.979332   \n",
       "\n",
       "                     Theoretical_Power_Curve (KWh)  Wind Direction (°)  \\\n",
       "Date                                                                     \n",
       "2018-12-31 23:10:00                    3397.190793           80.502724   \n",
       "2018-12-31 23:20:00                    1173.055771           84.062599   \n",
       "2018-12-31 23:30:00                    1788.284755           84.742500   \n",
       "2018-12-31 23:40:00                    2418.382503           84.297913   \n",
       "2018-12-31 23:50:00                    2779.184096           82.274620   \n",
       "\n",
       "                     LV ActivePower (kW)+1  LV ActivePower (kW)+2  \n",
       "Date                                                               \n",
       "2018-12-31 23:10:00            1684.353027            2201.106934  \n",
       "2018-12-31 23:20:00            2201.106934            2515.694092  \n",
       "2018-12-31 23:30:00            2515.694092            2820.466064  \n",
       "2018-12-31 23:40:00            2820.466064                    NaN  \n",
       "2018-12-31 23:50:00                    NaN                    NaN  "
      ]
     },
     "execution_count": 19,
     "metadata": {},
     "output_type": "execute_result"
    }
   ],
   "source": [
    "test.tail()"
   ]
  },
  {
   "cell_type": "code",
   "execution_count": 20,
   "metadata": {},
   "outputs": [],
   "source": [
    "test.dropna(inplace = True)"
   ]
  },
  {
   "cell_type": "code",
   "execution_count": 21,
   "metadata": {},
   "outputs": [],
   "source": [
    "## resample the records so that for frequency of 20 mins , values are averaged. \n",
    "train_rs = train.resample('20min')[[cols[1], cols[1]+'+1', cols[1]+'+2']].mean()\n",
    "test_rs = test.resample('20min')[[cols[1],cols[1]+'+1',cols[1]+'+2']].mean()"
   ]
  },
  {
   "cell_type": "code",
   "execution_count": 22,
   "metadata": {},
   "outputs": [
    {
     "data": {
      "text/plain": [
       "LV ActivePower (kW)      995\n",
       "LV ActivePower (kW)+1    995\n",
       "LV ActivePower (kW)+2    995\n",
       "dtype: int64"
      ]
     },
     "execution_count": 22,
     "metadata": {},
     "output_type": "execute_result"
    }
   ],
   "source": [
    "train_rs.isnull().sum()"
   ]
  },
  {
   "cell_type": "code",
   "execution_count": 23,
   "metadata": {},
   "outputs": [],
   "source": [
    "train_rs.dropna(inplace = True)"
   ]
  },
  {
   "cell_type": "code",
   "execution_count": 24,
   "metadata": {},
   "outputs": [
    {
     "data": {
      "text/plain": [
       "LV ActivePower (kW)      0\n",
       "LV ActivePower (kW)+1    0\n",
       "LV ActivePower (kW)+2    0\n",
       "dtype: int64"
      ]
     },
     "execution_count": 24,
     "metadata": {},
     "output_type": "execute_result"
    }
   ],
   "source": [
    "test_rs.isnull().sum()"
   ]
  },
  {
   "cell_type": "code",
   "execution_count": 25,
   "metadata": {},
   "outputs": [],
   "source": [
    "## set the features \n",
    "trainX = train_rs[[cols[1], cols[1]+'+1']].values\n",
    "testX = test_rs[[cols[1], cols[1]+'+1']].values"
   ]
  },
  {
   "cell_type": "code",
   "execution_count": 26,
   "metadata": {},
   "outputs": [],
   "source": [
    "## set the response/predictor variable.\n",
    "trainY = train_rs[cols[1]+'+2'].values\n",
    "#\n",
    "testY = test_rs[cols[1]+'+2'].values"
   ]
  },
  {
   "cell_type": "code",
   "execution_count": 27,
   "metadata": {},
   "outputs": [
    {
     "data": {
      "text/plain": [
       "((24852, 2), (24852,), (431, 2), (431,))"
      ]
     },
     "execution_count": 27,
     "metadata": {},
     "output_type": "execute_result"
    }
   ],
   "source": [
    "trainX.shape , trainY.shape , testX.shape , testY.shape"
   ]
  },
  {
   "cell_type": "code",
   "execution_count": 28,
   "metadata": {},
   "outputs": [],
   "source": [
    "# reshape input to be [samples, time steps, features]\n",
    "trainX = np.reshape(trainX, (len(trainX), 2, 1))\n",
    "testX = np.reshape(testX, (len(testX), 2, 1))\n"
   ]
  },
  {
   "cell_type": "code",
   "execution_count": 29,
   "metadata": {},
   "outputs": [
    {
     "name": "stdout",
     "output_type": "stream",
     "text": [
      "Epoch 1/50\n",
      "24852/24852 - 28s - loss: 3375925.5000\n",
      "Epoch 2/50\n",
      "24852/24852 - 27s - loss: 3203490.2500\n",
      "Epoch 3/50\n",
      "24852/24852 - 38s - loss: 3040698.7500\n",
      "Epoch 4/50\n",
      "24852/24852 - 40s - loss: 2885755.0000\n",
      "Epoch 5/50\n",
      "24852/24852 - 37s - loss: 2739015.0000\n",
      "Epoch 6/50\n",
      "24852/24852 - 36s - loss: 2599389.2500\n",
      "Epoch 7/50\n",
      "24852/24852 - 41s - loss: 2466986.0000\n",
      "Epoch 8/50\n",
      "24852/24852 - 34s - loss: 2340832.5000\n",
      "Epoch 9/50\n",
      "24852/24852 - 37s - loss: 2221069.7500\n",
      "Epoch 10/50\n",
      "24852/24852 - 32s - loss: 2103499.5000\n",
      "Epoch 11/50\n",
      "24852/24852 - 36s - loss: 1969567.8750\n",
      "Epoch 12/50\n",
      "24852/24852 - 35s - loss: 1843411.0000\n",
      "Epoch 13/50\n",
      "24852/24852 - 39s - loss: 1736704.8750\n",
      "Epoch 14/50\n",
      "24852/24852 - 37s - loss: 1631855.0000\n",
      "Epoch 15/50\n",
      "24852/24852 - 49s - loss: 1560087.1250\n",
      "Epoch 16/50\n",
      "24852/24852 - 40s - loss: 1465826.3750\n",
      "Epoch 17/50\n",
      "24852/24852 - 36s - loss: 1331817.5000\n",
      "Epoch 18/50\n",
      "24852/24852 - 39s - loss: 1235891.2500\n",
      "Epoch 19/50\n",
      "24852/24852 - 41s - loss: 1334757.2500\n",
      "Epoch 20/50\n",
      "24852/24852 - 35s - loss: 1142073.5000\n",
      "Epoch 21/50\n",
      "24852/24852 - 32s - loss: 1265038.8750\n",
      "Epoch 22/50\n",
      "24852/24852 - 30s - loss: 1249040.8750\n",
      "Epoch 23/50\n",
      "24852/24852 - 30s - loss: 1079028.0000\n",
      "Epoch 24/50\n",
      "24852/24852 - 30s - loss: 1022295.0000\n",
      "Epoch 25/50\n",
      "24852/24852 - 30s - loss: 945764.9375\n",
      "Epoch 26/50\n",
      "24852/24852 - 205s - loss: 846314.5625\n",
      "Epoch 27/50\n",
      "24852/24852 - 30s - loss: 786940.6250\n",
      "Epoch 28/50\n",
      "24852/24852 - 29s - loss: 880546.9375\n",
      "Epoch 29/50\n",
      "24852/24852 - 30s - loss: 910728.2500\n",
      "Epoch 30/50\n",
      "24852/24852 - 31s - loss: 862951.0625\n",
      "Epoch 31/50\n",
      "24852/24852 - 38s - loss: 881804.0000\n",
      "Epoch 32/50\n",
      "24852/24852 - 31s - loss: 1235541.5000\n",
      "Epoch 33/50\n",
      "24852/24852 - 31s - loss: 874323.5000\n",
      "Epoch 34/50\n",
      "24852/24852 - 31s - loss: 879763.0000\n",
      "Epoch 35/50\n",
      "24852/24852 - 31s - loss: 877571.8125\n",
      "Epoch 36/50\n",
      "24852/24852 - 31s - loss: 812825.5625\n",
      "Epoch 37/50\n",
      "24852/24852 - 1386s - loss: 643720.0000\n",
      "Epoch 38/50\n",
      "24852/24852 - 2435s - loss: 504047.8438\n",
      "Epoch 39/50\n",
      "24852/24852 - 83s - loss: 678870.9375\n",
      "Epoch 40/50\n",
      "24852/24852 - 1902s - loss: 615770.1250\n",
      "Epoch 41/50\n",
      "24852/24852 - 667s - loss: 634990.2500\n",
      "Epoch 42/50\n",
      "24852/24852 - 7946s - loss: 509499.0000\n",
      "Epoch 43/50\n",
      "24852/24852 - 53s - loss: 594445.4375\n",
      "Epoch 44/50\n",
      "24852/24852 - 27s - loss: 561222.0625\n",
      "Epoch 45/50\n",
      "24852/24852 - 28s - loss: 523565.9375\n",
      "Epoch 46/50\n",
      "24852/24852 - 28s - loss: 500659.1250\n",
      "Epoch 47/50\n",
      "24852/24852 - 29s - loss: 548744.6250\n",
      "Epoch 48/50\n",
      "24852/24852 - 30s - loss: 537367.4375\n",
      "Epoch 49/50\n",
      "24852/24852 - 30s - loss: 768570.7500\n",
      "Epoch 50/50\n",
      "24852/24852 - 30s - loss: 684802.5000\n"
     ]
    },
    {
     "data": {
      "text/plain": [
       "<tensorflow.python.keras.callbacks.History at 0x7fe92545bb20>"
      ]
     },
     "execution_count": 29,
     "metadata": {},
     "output_type": "execute_result"
    }
   ],
   "source": [
    "# create and fit the LSTM network\n",
    "model = tf.keras.models.Sequential()\n",
    "model.add(tf.keras.layers.LSTM(4, input_shape=(2, 1)))\n",
    "model.add(tf.keras.layers.Dense(1))\n",
    "model.compile(loss='mean_squared_error', optimizer='adam')\n",
    "model.fit(trainX, trainY, epochs=50, batch_size=1, verbose=2)"
   ]
  },
  {
   "cell_type": "code",
   "execution_count": 30,
   "metadata": {},
   "outputs": [],
   "source": [
    "# make predictions\n",
    "trainPredict = model.predict(trainX)\n",
    "testPredict = model.predict(testX)"
   ]
  },
  {
   "cell_type": "code",
   "execution_count": 31,
   "metadata": {},
   "outputs": [
    {
     "name": "stdout",
     "output_type": "stream",
     "text": [
      "Train Score: 782.12 RMSE\n",
      "Test Score: 167.32 RMSE\n",
      "R2 score :0.8648843569220841\n"
     ]
    }
   ],
   "source": [
    "# calculate root mean squared error\n",
    "trainScore = np.sqrt(mean_squared_error(trainY, trainPredict))\n",
    "print('Train Score: %.2f RMSE' % (trainScore))\n",
    "testScore = np.sqrt(mean_squared_error(testY, testPredict))\n",
    "print('Test Score: %.2f RMSE' % (testScore))\n",
    "print(\"R2 score :{}\".format(r2_score(testY, testPredict)))"
   ]
  },
  {
   "cell_type": "code",
   "execution_count": 32,
   "metadata": {},
   "outputs": [
    {
     "data": {
      "text/plain": [
       "<matplotlib.legend.Legend at 0x7fe92768d520>"
      ]
     },
     "execution_count": 32,
     "metadata": {},
     "output_type": "execute_result"
    },
    {
     "data": {
      "image/png": "[encoded data removed]",
      "text/plain": [
       "<Figure size 1080x360 with 1 Axes>"
      ]
     },
     "metadata": {
      "needs_background": "light"
     },
     "output_type": "display_data"
    }
   ],
   "source": [
    "plt.figure(figsize = (15,5))\n",
    "## create a df with the required test set dates as index \n",
    "result_df = test_rs[cols[1] + '+2'].reset_index()\n",
    "result_df['predicted'] = testPredict\n",
    "result_df.set_index(['Date'], inplace = True)\n",
    "plt.plot(result_df[cols[1]+ '+2'] , label = 'actual')\n",
    "plt.plot(result_df['predicted'] , label = 'predicted')\n",
    "plt.legend()"
   ]
  },
  {
   "cell_type": "markdown",
   "metadata": {},
   "source": [
    "By resampling to 20mins , and have two time steps , the test data RMSE has improved.  "
   ]
  },
  {
   "cell_type": "code",
   "execution_count": null,
   "metadata": {},
   "outputs": [],
   "source": []
  }
 ],
 "metadata": {
  "kernelspec": {
   "display_name": "Python 3",
   "language": "python",
   "name": "python3"
  },
  "language_info": {
   "codemirror_mode": {
    "name": "ipython",
    "version": 3
   },
   "file_extension": ".py",
   "mimetype": "text/x-python",
   "name": "python",
   "nbconvert_exporter": "python",
   "pygments_lexer": "ipython3",
   "version": "3.8.3"
  }
 },
 "nbformat": 4,
 "nbformat_minor": 4
}
